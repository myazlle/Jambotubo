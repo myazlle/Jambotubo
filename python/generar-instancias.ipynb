{
 "cells": [
  {
   "cell_type": "markdown",
   "metadata": {},
   "source": [
    "# Generador de instancias\n",
    "En este notebook está el código para generar los sets de instancias que se usan para experimentar.\n",
    "- Estas instancias van a ser guardadas en la carpeta __instancias__.\n",
    "- Cada set estará en su propia carpeta y tendrá un archivo _indice.csv_ que contendrá información sobre las instancias."
   ]
  },
  {
   "cell_type": "code",
   "execution_count": 1,
   "metadata": {},
   "outputs": [],
   "source": [
    "import random, math\n",
    "import pandas as pd"
   ]
  },
  {
   "cell_type": "code",
   "execution_count": 2,
   "metadata": {},
   "outputs": [],
   "source": [
    "def save_instance(dataset, instance_name, w, r, R):\n",
    "    with open(F\"instancias/{dataset}/{instance_name}.txt\", \"w\") as f:\n",
    "        print(len(r), R, file=f)\n",
    "        for i in range(0,len(r)): \n",
    "            print(w[i], file=f, end=\" \")\n",
    "            print(r[i], file=f, end=\" \")\n",
    "\n",
    "def save_index(dataset, instances):\n",
    "    with open(F\"instancias/{dataset}/instances.txt\", \"w\") as f:\n",
    "        for instance in instances: \n",
    "            print(instance, file=f)"
   ]
  },
  {
   "cell_type": "code",
   "execution_count": 3,
   "metadata": {},
   "outputs": [],
   "source": [
    "def save_instance1(dataset, instance_name, S, W):\n",
    "    with open(F\"instancias/{dataset}/{instance_name}.txt\", \"w\") as f:\n",
    "        print(len(S), W, file=f)\n",
    "        for s in S: \n",
    "            print(s, file=f, end=\" \")\n",
    "\n",
    "def save_index1(dataset, instances):\n",
    "    with open(F\"instancias/{dataset}/instances.txt\", \"w\") as f:\n",
    "        for instance in instances: \n",
    "            print(instance, file=f)"
   ]
  },
  {
   "cell_type": "markdown",
   "metadata": {},
   "source": [
    "## Dataset 1 (JAMBOTUBO) por ahora uso solo posta la poda por factibilidad\n",
    "Instancias de mejor caso de backtracking, están descriptas en el informe en más detalle.\n",
    "```\n",
    "r = {1, ..., 1, 1} con R = 1\n",
    "w = {2, ..., 2, 2} \n",
    "```"
   ]
  },
  {
   "cell_type": "code",
   "execution_count": null,
   "metadata": {},
   "outputs": [],
   "source": [
    "#mejor caso bt\n",
    "\n",
    "filas_indice = []\n",
    "for i in range(1, 1001):\n",
    "    n = i * 10\n",
    "    R = 1\n",
    "    w = [2 for i in range(0, n)]\n",
    "    r = [1 for i in range(0, n)] \n",
    "    save_instance(\"mejor-caso-bt\", F\"BT-MC-{n}\", w, r, R)\n",
    "    filas_indice.append([\"mejor-caso-bt\", F\"BT-MC-{n}\", n, R, F\"instancias/mejor-caso-bt-f/BT-MC-{n}.txt\"])\n",
    "pd.DataFrame(filas_indice, columns=[\"dataset\", \"instancia\", \"n\", \"R\", \"archivo\"]).to_csv(\"instancias/mejor-caso-bt/indice.csv\", index=False, header=True)\n",
    "\n",
    "# filas_indice = []\n",
    "# for i in range(1, 1001):\n",
    "#     n = i * 10\n",
    "#     R = 1\n",
    "#     w = [2 for i in range(0, n)]\n",
    "#     r = [1 for i in range(0, n)] \n",
    "#     save_instance(\"peor-caso-bt-f\", F\"BT-MC-{n}\", w, r, R)\n",
    "#     filas_indice.append([\"peor-caso-bt-f\", F\"BT-MC-{n}\", n, R, F\"instancias/peor-caso-bt-f/BT-MC-{n}.txt\"])\n",
    "# pd.DataFrame(filas_indice, columns=[\"dataset\", \"instancia\", \"n\", \"R\", \"archivo\"]).to_csv(\"instancias/peor-caso-bt-f/indice.csv\", index=False, header=True)"
   ]
  },
  {
   "cell_type": "markdown",
   "metadata": {},
   "source": [
    "## Dataset 2 JAMBOTUBO\n",
    "Instancias de peor caso de backtracking, están descriptas en el informe en más detalle.\n",
    "```\n",
    "r = {R, ..., R, R} con R > n\n",
    "w = {1, ..., 1, 1} \n",
    "```"
   ]
  },
  {
   "cell_type": "code",
   "execution_count": 23,
   "metadata": {},
   "outputs": [],
   "source": [
    "#peor caso bt\n",
    "filas_indice = []\n",
    "for i in range(1, 1001):\n",
    "    n = i * 10\n",
    "    R = n * 100\n",
    "    w = [1 for i in range(0, n)]\n",
    "    r = [ R for i in range(0, n)] \n",
    "    save_instance(\"peor-caso-bt\", F\"BT-PC-{n}\", w, r, R)\n",
    "    filas_indice.append([\"peor-caso-bt\", F\"BT-PC-{n}\", n, R, F\"instancias/peor-caso-bt/BT-PC-{n}.txt\"])\n",
    "pd.DataFrame(filas_indice, columns=[\"dataset\", \"instancia\", \"n\", \"R\", \"archivo\"]).to_csv(\"instancias/peor-caso-bt/indice.csv\", index=False, header=True)"
   ]
  },
  {
   "cell_type": "markdown",
   "metadata": {},
   "source": [
    "## Dataset 3 (JAMBOTUBE) resistencia / peso, ordenado descendentemente \n",
    "Instancias ordenadas descendentemente:\n",
    "```\n",
    "r = {r_1 , ..., r_n }, donde r_i y w_i son random para todo 0 < i <= n, y la R es max r_i\n",
    "w = {w_1 , ..., w_n } \n",
    "r[i]/w[i] >= r[i+1]/w[i+1] para todo 0 < i < n\n",
    "```"
   ]
  },
  {
   "cell_type": "code",
   "execution_count": 5,
   "metadata": {},
   "outputs": [],
   "source": [
    "filas_indice = []\n",
    "for i in range(1, 1001):\n",
    "    n = i * 5\n",
    "    rw = [(random.randint(1, n*10), random.randint(1, n*10)) for i in range(0, n)]\n",
    "    sorted(rw, key=lambda t: t[0]/t[1], reverse=True)\n",
    "    r,w = map(list,zip(*rw))\n",
    "    R = max(r)\n",
    "    \n",
    "\n",
    "    save_instance(\"res_peso_desc\", F\"DESC-{n}\", w, r, R)\n",
    "    filas_indice.append([\"res_peso_desc\", F\"DESC-{n}\", n, R, F\"instancias/res_peso_desc/DESC-{n}.txt\"])\n",
    "pd.DataFrame(filas_indice, columns=[\"dataset\", \"instancia\", \"n\", \"R\", \"archivo\"]).to_csv(\"instancias/res_peso_desc/indice.csv\", index=False, header=True)\n",
    "\n",
    "\n",
    "# filas_indice = []\n",
    "# for i in range(1, 1001):\n",
    "#     n = i\n",
    "#     rw = [(random.randint(1, n*10), random.randint(1, n*10)) for i in range(0, n)]\n",
    "#     sorted(rw, key=lambda t: t[0]/t[1], reverse=True)\n",
    "#     R = max(r)\n",
    "#     r,w = map(list,zip(*rw))\n",
    "    \n",
    "\n",
    "#     save_instance(\"FB_res_peso_desc\", F\"DESC-{n}\", w, r, R)\n",
    "#     filas_indice.append([\"FB_res_peso_desc\", F\"DESC-{n}\", n, R, F\"instancias/FB_res_peso_desc/DESC-{n}.txt\"])\n",
    "# pd.DataFrame(filas_indice, columns=[\"dataset\", \"instancia\", \"n\", \"R\", \"archivo\"]).to_csv(\"instancias/FB_res_peso_desc/indice.csv\", index=False, header=True)\n"
   ]
  },
  {
   "cell_type": "markdown",
   "metadata": {},
   "source": [
    "## Dataset 4 (JAMBOTUBE) resistencia / peso, ordenado ascendentemente \n",
    "Instancias con densidad alta:\n",
    "```\n",
    "r = {r_1 , ..., r_n }, donde r_i y w_i son random para todo 0 < i <= n, y la R es max r_i\n",
    "w = {w_1 , ..., w_n } \n",
    "r[i]/w[i] <= r[i+1]/w[i+1] para todo 0 < i < n\n",
    "```"
   ]
  },
  {
   "cell_type": "code",
   "execution_count": 6,
   "metadata": {},
   "outputs": [],
   "source": [
    "filas_indice = []\n",
    "for i in range(1, 1001):\n",
    "    n = i * 5\n",
    "    rw = [(random.randint(1, n*10), random.randint(1, n*10)) for i in range(0, n)]\n",
    "    sorted(rw, key=lambda t: t[0]/t[1])\n",
    "    r,w = map(list,zip(*rw))\n",
    "    R = max(r)\n",
    "    \n",
    "\n",
    "    save_instance(\"res_peso_asc\", F\"ASC-{n}\", w, r, R)\n",
    "    filas_indice.append([\"res_peso_asc\", F\"ASC-{n}\", n, R, F\"instancias/res_peso_asc/ASC-{n}.txt\"])\n",
    "pd.DataFrame(filas_indice, columns=[\"dataset\", \"instancia\", \"n\", \"R\", \"archivo\"]).to_csv(\"instancias/res_peso_asc/indice.csv\", index=False, header=True)\n",
    "\n",
    "\n",
    "# filas_indice = []\n",
    "# for i in range(1, 1001):\n",
    "#     n = i\n",
    "#     rw = [(random.randint(1, n*10), random.randint(1, n*10)) for i in range(0, n)]\n",
    "#     sorted(rw, key=lambda t: t[0]/t[1])\n",
    "#     R = max(r)\n",
    "#     r,w = map(list,zip(*rw))\n",
    "    \n",
    "\n",
    "#     save_instance(\"FB_res_peso_asc\", F\"ASC-{n}\", w, r, R)\n",
    "#     filas_indice.append([\"FB_res_peso_asc\", F\"ASC-{n}\", n, R, F\"instancias/FB_res_peso_asc/ASC-{n}.txt\"])\n",
    "# pd.DataFrame(filas_indice, columns=[\"dataset\", \"instancia\", \"n\", \"R\", \"archivo\"]).to_csv(\"instancias/FB_res_peso_asc/indice.csv\", index=False, header=True)"
   ]
  },
  {
   "cell_type": "markdown",
   "metadata": {},
   "source": [
    "## Dataset 5 (JAMBOTUBO) RANDOM\n",
    "Instancias con productos completamente randoms:\n",
    "```\n",
    "r = {r_1 , ..., r_n }, donde r_i y w_i son random para todo 0 < i <= n, y la R es max r_i\n",
    "w = {w_1 , ..., w_n } \n",
    "```"
   ]
  },
  {
   "cell_type": "code",
   "execution_count": 31,
   "metadata": {},
   "outputs": [],
   "source": [
    "filas_indice = []\n",
    "for i in range(1, 1001):\n",
    "    n = i\n",
    "    r = [random.randint(1, n*10) for i in range(0, n)]\n",
    "    w = [random.randint(1, n*10) for i in range(0, n)]\n",
    "    R = max(r)\n",
    "\n",
    "    save_instance(\"random\", F\"RAN-{n}\", w, r, R)\n",
    "    filas_indice.append([\"random\", F\"RAN-{n}\", n, R, F\"instancias/random/RAN-{n}.txt\"])\n",
    "pd.DataFrame(filas_indice, columns=[\"dataset\", \"instancia\", \"n\", \"R\", \"archivo\"]).to_csv(\"instancias/random/indice.csv\", index=False, header=True)"
   ]
  },
  {
   "cell_type": "markdown",
   "metadata": {},
   "source": [
    "## Dataset 6 (JAMBOTUBO) PD R fijo\n",
    "Instancias con productos con R fijo:\n",
    "```\n",
    "r = {r_1 , ..., r_n }, donde r_i y w_i son random para todo 0 < i <= n, y la R es max r_i\n",
    "w = {w_1 , ..., w_n } "
   ]
  },
  {
   "cell_type": "code",
   "execution_count": 9,
   "metadata": {},
   "outputs": [],
   "source": [
    "# filas_indice = []\n",
    "# for i in range(1, 1001):\n",
    "#     n = i * 10\n",
    "#     r = [random.randint(1, R) for i in range(0, n)]\n",
    "#     w = [random.randint(1, R) for i in range(0, n)]\n",
    "#     R = 800\n",
    "\n",
    "#     save_instance(\"r_fijo\", F\"R_FIJO-{n}\", w, r, R)\n",
    "#     filas_indice.append([\"r_fijo\", F\"R_FIJO-{n}\", n, R, F\"instancias/r_fijo/R_FIJO-{n}.txt\"])\n",
    "# pd.DataFrame(filas_indice, columns=[\"dataset\", \"instancia\", \"n\", \"R\", \"archivo\"]).to_csv(\"instancias/r_fijo/indice.csv\", index=False, header=True)"
   ]
  },
  {
   "cell_type": "code",
   "execution_count": 27,
   "metadata": {},
   "outputs": [],
   "source": [
    "filas_indice = []\n",
    "for n in range(1000, 8000, 500):\n",
    "    for R in range(1000, 8000, 500):\n",
    "        r = [random.randint(1, R) for i in range(0, n)]\n",
    "        w = [random.randint(1, R) for i in range(0, n)]\n",
    "        save_instance(\"dinamica\", F\"DP-{n}-{R}\", w, r, R)\n",
    "        filas_indice.append([\"dinamica\", F\"DP-{n}-{R}\", n, R, F\"instancias/dinamica/DP-{n}-{R}.txt\"])\n",
    "pd.DataFrame(filas_indice, columns=[\"dataset\", \"instancia\", \"n\", \"R\", \"archivo\"]).to_csv(\"instancias/dinamica/indice.csv\", index=False, header=True)"
   ]
  },
  {
   "cell_type": "markdown",
   "metadata": {},
   "source": [
    "## Dataset 6 (JAMBOTUBO) PD n fijo\n",
    "Instancias con productos con n fijo:\n",
    "```\n",
    "r = {r_1 , ..., r_n }, donde r_i y w_i son random para todo 0 < i <= n, y la R es max r_i\n",
    "w = {w_1 , ..., w_n } "
   ]
  },
  {
   "cell_type": "code",
   "execution_count": 11,
   "metadata": {},
   "outputs": [],
   "source": [
    "# filas_indice = []\n",
    "# for i in range(1, 1001):\n",
    "#     n = 400\n",
    "#     R = i * 10\n",
    "#     r = [random.randint(1, R) for i in range(0, n)]\n",
    "#     w = [random.randint(1, R) for i in range(0, n)]\n",
    "    \n",
    "\n",
    "#     save_instance(\"n_fijo\", F\"N_FIJO-{R}\", w, r, R)\n",
    "#     filas_indice.append([\"n_fijo\", F\"N_FIJO-{R}\", n, R, F\"instancias/n_fijo/N_FIJO-{R}.txt\"])\n",
    "# pd.DataFrame(filas_indice, columns=[\"dataset\", \"instancia\", \"n\", \"R\", \"archivo\"]).to_csv(\"instancias/n_fijo/indice.csv\", index=False, header=True)"
   ]
  },
  {
   "cell_type": "code",
   "execution_count": null,
   "metadata": {},
   "outputs": [],
   "source": []
  },
  {
   "cell_type": "code",
   "execution_count": null,
   "metadata": {},
   "outputs": [],
   "source": []
  }
 ],
 "metadata": {
  "kernelspec": {
   "display_name": "Python 3",
   "language": "python",
   "name": "python3"
  },
  "language_info": {
   "codemirror_mode": {
    "name": "ipython",
    "version": 3
   },
   "file_extension": ".py",
   "mimetype": "text/x-python",
   "name": "python",
   "nbconvert_exporter": "python",
   "pygments_lexer": "ipython3",
   "version": "3.8.6"
  }
 },
 "nbformat": 4,
 "nbformat_minor": 4
}
