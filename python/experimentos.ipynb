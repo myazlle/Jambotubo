{
 "cells": [
  {
   "cell_type": "markdown",
   "metadata": {},
   "source": [
    "# Correr experimentos\n",
    "En este archivo está el código para correr los experimentos y escribir los resultados en archivos CSV.\n",
    "> Los archivos se guardan en la carpeta _resultados_."
   ]
  },
  {
   "cell_type": "code",
   "execution_count": 1,
   "metadata": {},
   "outputs": [],
   "source": [
    "import math, subprocess\n",
    "import pandas as pd\n",
    "import numpy as np\n",
    "from IPython.display import display, clear_output"
   ]
  },
  {
   "cell_type": "markdown",
   "metadata": {},
   "source": [
    "A continuación leemos los datasets en dataframes de Pandas."
   ]
  },
  {
   "cell_type": "code",
   "execution_count": 2,
   "metadata": {},
   "outputs": [],
   "source": [
    "def leer_instancia(path_instancia):\n",
    "    with open(path_instancia, \"r\") as f:\n",
    "        return f.read();\n",
    "    \n",
    "df_FB_res_peso_asc = pd.read_csv(\"instancias/FB_res_peso_asc/indice.csv\");\n",
    "df_FB_res_peso_desc = pd.read_csv(\"instancias/FB_res_peso_desc/indice.csv\"); \n",
    "df_res_peso_asc = pd.read_csv(\"instancias/res_peso_asc/indice.csv\");\n",
    "df_res_peso_desc = pd.read_csv(\"instancias/res_peso_desc/indice.csv\"); \n",
    "df_mejor_caso_bt = pd.read_csv(\"instancias/mejor-caso-bt/indice.csv\");\n",
    "df_peor_caso_bt = pd.read_csv(\"instancias/peor-caso-bt/indice.csv\");\n",
    "df_mejor_caso_bt_f = pd.read_csv(\"instancias/mejor-caso-bt-f/indice.csv\");\n",
    "df_mejor_caso_bt_o = pd.read_csv(\"instancias/mejor-caso-bt-o/indice.csv\");\n",
    "df_peor_caso_bt_f = pd.read_csv(\"instancias/peor-caso-bt-f/indice.csv\");\n",
    "df_peor_caso_bt_o = pd.read_csv(\"instancias/peor-caso-bt-o/indice.csv\");\n",
    "df_random = pd.read_csv(\"instancias/random/indice.csv\");\n",
    "df_random_n_grande = pd.read_csv(\"instancias/random-n-grande/indice.csv\");\n",
    "df_dinamica = pd.read_csv(\"instancias/dinamica/indice.csv\");"
   ]
  },
  {
   "cell_type": "markdown",
   "metadata": {},
   "source": [
    "La siguiente función sirve para correr el código sobre una instancia ejecutando un método en particular.\n",
    "- FB: Fuerza bruta\n",
    "- BT: Backtracking con ambas podas.\n",
    "- BT-F: Backtracking solamente con poda por factibilidad.\n",
    "- BT-O: Backtracking solamente con poda por optimalidad.\n",
    "- DP: Programación dinámica."
   ]
  },
  {
   "cell_type": "code",
   "execution_count": 3,
   "metadata": {},
   "outputs": [],
   "source": [
    "def correr_experimento(metodo, archivo_instancia):\n",
    "    # Leer archivo de la instancia.\n",
    "    instancia = leer_instancia(archivo_instancia)\n",
    "    \n",
    "    # Crear proceso para ejecutar el codigo.\n",
    "    process = subprocess.Popen([\"../jambotubo\", metodo], stderr=subprocess.PIPE, stdout=subprocess.PIPE, stdin=subprocess.PIPE, universal_newlines = True)\n",
    "\n",
    "    # Poner la instancia en la entrada estandar.\n",
    "    process.stdin.write(instancia)\n",
    "    process.stdin.flush()\n",
    "\n",
    "    # Correr experimento.\n",
    "    exit_code = process.wait()\n",
    "\n",
    "    # Verificar que el proceso no fallo.\n",
    "    if exit_code != 0: raise(F\"Hubo un error en la experimentacion para el algoritmo: {algoritmo} con la instancia {archivo_instancia}.\")\n",
    "    # Leer salida de STDERR con los tiempos de ejecucion de cada metodo.\n",
    "    tiempo_de_ejecucion = float(process.stderr.read());\n",
    "    tiempo_de_ejecucion =  int(process.stdout.read()); # piso y devuelvo la respuesta\n",
    "    \n",
    "    process.stdin.close();\n",
    "    process.stdout.close();\n",
    "    process.stderr.close();\n",
    "    \n",
    "    return tiempo_de_ejecucion;"
   ]
  },
  {
   "cell_type": "code",
   "execution_count": 4,
   "metadata": {},
   "outputs": [],
   "source": [
    "def correr_experimento_tester(metodo, archivo_instancia):\n",
    "    # Leer archivo de la instancia.\n",
    "    instancia = leer_instancia(archivo_instancia)\n",
    "    \n",
    "    # Crear proceso para ejecutar el codigo.\n",
    "    process = subprocess.Popen([\"../jambotubo\", metodo], stderr=subprocess.PIPE, stdout=subprocess.PIPE, stdin=subprocess.PIPE, universal_newlines = True)\n",
    "\n",
    "    # Poner la instancia en la entrada estandar.\n",
    "    process.stdin.write(instancia)\n",
    "    process.stdin.flush()\n",
    "\n",
    "    # Correr experimento.\n",
    "    exit_code = process.wait()\n",
    "\n",
    "    # Verificar que el proceso no fallo.\n",
    "    if exit_code != 0: raise(F\"Hubo un error en la experimentacion para el algoritmo: {algoritmo} con la instancia {archivo_instancia}.\")\n",
    "    # Leer salida de STDERR con los tiempos de ejecucion de cada metodo.\n",
    "    res =  int(process.stdout.read()); # piso y devuelvo la respuesta\n",
    "    \n",
    "    process.stdin.close();\n",
    "    process.stdout.close();\n",
    "    process.stderr.close();\n",
    "    \n",
    "    return res;"
   ]
  },
  {
   "cell_type": "markdown",
   "metadata": {},
   "source": [
    "## Corremos los experimentos\n",
    "Vamos a guardar una tabla con las ejecuciones y sus respectivos tiempos."
   ]
  },
  {
   "cell_type": "code",
   "execution_count": 5,
   "metadata": {},
   "outputs": [],
   "source": [
    "experimentos = [];"
   ]
  },
  {
   "cell_type": "markdown",
   "metadata": {},
   "source": [
    "### Experimento 1\n",
    "Correr Fuerza Bruta en las primeras 30 instancias de res_peso_asc y res_peso_desc"
   ]
  },
  {
   "cell_type": "code",
   "execution_count": 5,
   "metadata": {},
   "outputs": [],
   "source": [
    "#fuerza bruta res_peso_asc\n",
    "for n in range(0, 31):\n",
    "    fila_n = df_FB_res_peso_asc.iloc[n];\n",
    "    experimentos.append([fila_n[\"dataset\"], n, fila_n[\"R\"], \"FB\", fila_n[\"archivo\"]]);\n",
    "\n",
    "#fuerza bruta res_peso_desc\n",
    "for n in range(0, 31): #31\n",
    "    fila_n = df_FB_res_peso_desc.iloc[n];\n",
    "    experimentos.append([fila_n[\"dataset\"], n, fila_n[\"R\"], \"FB\", fila_n[\"archivo\"]]);"
   ]
  },
  {
   "cell_type": "markdown",
   "metadata": {},
   "source": [
    "## Experimento 2\n",
    "Correr BT para mejor y peor caso."
   ]
  },
  {
   "cell_type": "code",
   "execution_count": 6,
   "metadata": {},
   "outputs": [],
   "source": [
    "#mejor caso bt\n",
    "for n in range(0, 100):\n",
    "    fila_n = df_mejor_caso_bt.iloc[n];\n",
    "    experimentos.append([fila_n[\"dataset\"], n, fila_n[\"R\"], \"BT\", fila_n[\"archivo\"]]);\n",
    "\n",
    "for n in range(0, 100): #150\n",
    "    fila_n = df_peor_caso_bt.iloc[n];\n",
    "    experimentos.append([fila_n[\"dataset\"], n, fila_n[\"R\"], \"BT\", fila_n[\"archivo\"]]);"
   ]
  },
  {
   "cell_type": "code",
   "execution_count": 7,
   "metadata": {},
   "outputs": [],
   "source": [
    "#mejor caso bt-o\n",
    "for n in range(0, 100): #150\n",
    "    fila_n = df_mejor_caso_bt_o.iloc[n];\n",
    "    experimentos.append([fila_n[\"dataset\"], n, fila_n[\"R\"], \"BT-O\", fila_n[\"archivo\"]]);\n",
    "\n",
    "#mejor caso bt-f\n",
    "for n in range(0, 100):\n",
    "    fila_n = df_mejor_caso_bt_f.iloc[n];\n",
    "    experimentos.append([fila_n[\"dataset\"], n, fila_n[\"R\"], \"BT-F\", fila_n[\"archivo\"]]);\n",
    "\n",
    "#peor caso bt-o, mismo dataset que mejor caso bt-f\n",
    "for n in range(0, 30):\n",
    "    fila_n = df_peor_caso_bt_o.iloc[n];\n",
    "    experimentos.append([fila_n[\"dataset\"], n, fila_n[\"R\"], \"BT-O\", fila_n[\"archivo\"]]);\n",
    "\n",
    "#peor caso bt-f, mismo dataset que mejor caso bt-o\n",
    "for n in range(0, 26): #150\n",
    "    fila_n = df_peor_caso_bt_f.iloc[n];\n",
    "    experimentos.append([fila_n[\"dataset\"], n, fila_n[\"R\"], \"BT-F\", fila_n[\"archivo\"]]);"
   ]
  },
  {
   "cell_type": "markdown",
   "metadata": {},
   "source": [
    "## Experimento 3\n",
    "Correr BT, BT-F, BT-O para res_FB_peso_asc y res_FB_peso_desc (el FB despues hay que sacarlo)"
   ]
  },
  {
   "cell_type": "code",
   "execution_count": 9,
   "metadata": {},
   "outputs": [],
   "source": [
    "for n in range(0, 101):\n",
    "    fila_n = df_FB_res_peso_asc.iloc[n];\n",
    "    experimentos.append([fila_n[\"dataset\"], n, fila_n[\"R\"], \"BT\", fila_n[\"archivo\"]]);\n",
    "    \n",
    "for n in range(0, 101):\n",
    "    fila_n = df_FB_res_peso_desc.iloc[n];\n",
    "    experimentos.append([fila_n[\"dataset\"], n, fila_n[\"R\"], \"BT\", fila_n[\"archivo\"]]);\n",
    "\n",
    "for n in range(0, 28): #28\n",
    "    fila_n = df_FB_res_peso_asc.iloc[n];\n",
    "    experimentos.append([fila_n[\"dataset\"], n, fila_n[\"R\"], \"BT-F\", fila_n[\"archivo\"]]);\n",
    "#     experimentos.append([fila_n[\"dataset\"], n, fila_n[\"R\"], \"BT-O\", fila_n[\"archivo\"]]);\n",
    "\n",
    "for n in range(0, 28): #28\n",
    "    fila_n = df_FB_res_peso_desc.iloc[n];\n",
    "    experimentos.append([fila_n[\"dataset\"], n, fila_n[\"R\"], \"BT-F\", fila_n[\"archivo\"]]);\n",
    "#     experimentos.append([fila_n[\"dataset\"], n, fila_n[\"R\"], \"BT-O\", fila_n[\"archivo\"]]);"
   ]
  },
  {
   "cell_type": "markdown",
   "metadata": {},
   "source": [
    "## Experimento 3.1\n",
    "Correr BT, BT-F, BT-O para random"
   ]
  },
  {
   "cell_type": "code",
   "execution_count": 10,
   "metadata": {},
   "outputs": [],
   "source": [
    "for n in range(0, 29):\n",
    "    fila_n = df_random.iloc[n];\n",
    "    experimentos.append([fila_n[\"dataset\"], n, fila_n[\"R\"], \"BT\", fila_n[\"archivo\"]]);\n",
    "    experimentos.append([fila_n[\"dataset\"], n, fila_n[\"R\"], \"BT-F\", fila_n[\"archivo\"]]);\n",
    "    experimentos.append([fila_n[\"dataset\"], n, fila_n[\"R\"], \"BT-O\", fila_n[\"archivo\"]]);"
   ]
  },
  {
   "cell_type": "markdown",
   "metadata": {},
   "source": [
    "## Experimento 3.2\n",
    "Correr BT, BT-F, BT-O para res_peso con n grandes"
   ]
  },
  {
   "cell_type": "code",
   "execution_count": 11,
   "metadata": {},
   "outputs": [],
   "source": [
    "for n in range(0, 27):\n",
    "    fila_n = df_res_peso_asc.iloc[n];\n",
    "    experimentos.append([fila_n[\"dataset\"], n, fila_n[\"R\"], \"BT-F\", fila_n[\"archivo\"]]);\n",
    "    experimentos.append([fila_n[\"dataset\"], n, fila_n[\"R\"], \"BT\", fila_n[\"archivo\"]]);\n",
    "\n",
    "for n in range(0, 27):\n",
    "    fila_n = df_res_peso_desc.iloc[n];\n",
    "    experimentos.append([fila_n[\"dataset\"], n, fila_n[\"R\"], \"BT-F\", fila_n[\"archivo\"]]);\n",
    "    experimentos.append([fila_n[\"dataset\"], n, fila_n[\"R\"], \"BT\", fila_n[\"archivo\"]]);"
   ]
  },
  {
   "cell_type": "markdown",
   "metadata": {},
   "source": [
    "# Experimento 4\n",
    "Correr DP para el dataset random."
   ]
  },
  {
   "cell_type": "code",
   "execution_count": 12,
   "metadata": {},
   "outputs": [],
   "source": [
    "for i in range(0, 250):\n",
    "    fila = df_random.iloc[i];\n",
    "    experimentos.append([fila[\"dataset\"], fila[\"n\"], fila[\"R\"], \"DP\", fila[\"archivo\"]]);"
   ]
  },
  {
   "cell_type": "markdown",
   "metadata": {},
   "source": [
    "## Experimento 5\n",
    "Correr DP y BT para Random, res_peso_asc, res_peso_desc"
   ]
  },
  {
   "cell_type": "code",
   "execution_count": 13,
   "metadata": {},
   "outputs": [],
   "source": [
    "for n in range(0, 250):\n",
    "    fila_n = df_FB_res_peso_asc.iloc[n];\n",
    "    experimentos.append([fila_n[\"dataset\"], n, fila_n[\"R\"], \"DP\", fila_n[\"archivo\"]]);\n",
    "    \n",
    "for n in range(0, 250):\n",
    "    fila_n = df_FB_res_peso_desc.iloc[n];\n",
    "    experimentos.append([fila_n[\"dataset\"], n, fila_n[\"R\"], \"DP\", fila_n[\"archivo\"]]);\n",
    "    \n",
    "for n in range(0, 100):\n",
    "    fila_n = df_random.iloc[n];\n",
    "    experimentos.append([fila_n[\"dataset\"], n, fila_n[\"R\"], \"BT\", fila_n[\"archivo\"]]);\n",
    "    experimentos.append([fila_n[\"dataset\"], n, fila_n[\"R\"], \"DP\", fila_n[\"archivo\"]]);"
   ]
  },
  {
   "cell_type": "markdown",
   "metadata": {},
   "source": [
    "## Experimento 6\n",
    "Correr DP con n fijo"
   ]
  },
  {
   "cell_type": "code",
   "execution_count": 14,
   "metadata": {},
   "outputs": [],
   "source": [
    "for i in range(0,df_dinamica.shape[0]):\n",
    "    fila = df_dinamica.iloc[i];\n",
    "    experimentos.append([fila[\"dataset\"], fila[\"n\"], fila[\"R\"], \"DP\", fila[\"archivo\"]]);"
   ]
  },
  {
   "cell_type": "markdown",
   "metadata": {},
   "source": [
    "## Ejecutar los experimentos y guardar los resultados en un archivo CSV.\n",
    "Este paso puede tardar unos minutos hasta terminar de ejecutarse."
   ]
  },
  {
   "cell_type": "code",
   "execution_count": null,
   "metadata": {},
   "outputs": [
    {
     "data": {
      "text/plain": [
       "'Experimento: 455/456, peor-caso-bt-f, 24, 2500, BT-F'"
      ]
     },
     "metadata": {},
     "output_type": "display_data"
    }
   ],
   "source": [
    "columnas = [\"dataset\", \"n\", \"R\", \"metodo\", \"tiempo\"];\n",
    "filas = [];\n",
    "numero = 1\n",
    "T = 5 # Numero de veces que se ejecuta cada experimento (para mayor fidelidad del tiempo).\n",
    "for experimento in experimentos:\n",
    "    # Voy mostrando que experimento se esta ejecutando.\n",
    "    clear_output(wait=True)\n",
    "    display('Experimento: ' + str(numero) + \"/\" + str(len(experimentos)) + ', ' + str(experimento[0]) + ', ' + str(experimento[1]) + ', ' + str(experimento[2]) + ', ' + str(experimento[3]));\n",
    "    numero += 1\n",
    "    \n",
    "    # Ejecutamos el experimento T veces y obtenemos la mediana.\n",
    "    tiempos = []\n",
    "    for i in range(0, T):\n",
    "        tiempos.append(correr_experimento(experimento[3], experimento[4]));\n",
    "    tiempo = np.median(tiempos);\n",
    "    filas.append([experimento[0], experimento[1], experimento[2], experimento[3], tiempo]);\n",
    "df_resultado = pd.DataFrame(filas, columns=columnas);\n",
    "df_resultado.to_csv(\"instancias/ultimas/resultados-2.csv\", index=False, header=True);\n",
    "print('Listo')"
   ]
  },
  {
   "cell_type": "code",
   "execution_count": null,
   "metadata": {},
   "outputs": [],
   "source": []
  },
  {
   "cell_type": "markdown",
   "metadata": {},
   "source": [
    "## --- TESTS --- \n",
    ".\n",
    ".\n",
    ".\n",
    ".\n",
    ".\n",
    ".\n",
    ".\n",
    ".\n",
    ".\n",
    ".\n",
    ".\n",
    ".\n",
    ".\n",
    ".\n"
   ]
  },
  {
   "cell_type": "code",
   "execution_count": 22,
   "metadata": {},
   "outputs": [],
   "source": [
    "test = [];\n",
    "FB = [];\n",
    "BT = [];\n",
    "BT_O = [];\n",
    "BT_F = [];\n",
    "DP = [];\n",
    "\n",
    "C_test = 25;\n",
    "C_datasets_tests = 3;\n",
    "\n",
    "for i in range(0, C_test):\n",
    "    fila = df_random.iloc[i];\n",
    "    FB.append([fila[\"dataset\"], fila[\"n\"], fila[\"R\"], \"FB\", fila[\"archivo\"]]);\n",
    "    BT.append([fila[\"dataset\"], fila[\"n\"], fila[\"R\"], \"BT\", fila[\"archivo\"]]);\n",
    "    BT_O.append([fila[\"dataset\"], fila[\"n\"], fila[\"R\"], \"BT-O\", fila[\"archivo\"]]);\n",
    "    BT_F.append([fila[\"dataset\"], fila[\"n\"], fila[\"R\"], \"BT-F\", fila[\"archivo\"]]);\n",
    "    DP.append([fila[\"dataset\"], fila[\"n\"], fila[\"R\"], \"DP\", fila[\"archivo\"]]);\n",
    "    \n",
    "for i in range(0, C_test):\n",
    "    fila = df_FB_res_peso_asc.iloc[i];\n",
    "    FB.append([fila[\"dataset\"], fila[\"n\"], fila[\"R\"], \"FB\", fila[\"archivo\"]]);\n",
    "    BT.append([fila[\"dataset\"], fila[\"n\"], fila[\"R\"], \"BT\", fila[\"archivo\"]]);\n",
    "    BT_O.append([fila[\"dataset\"], fila[\"n\"], fila[\"R\"], \"BT-O\", fila[\"archivo\"]]);\n",
    "    BT_F.append([fila[\"dataset\"], fila[\"n\"], fila[\"R\"], \"BT-F\", fila[\"archivo\"]]);\n",
    "    DP.append([fila[\"dataset\"], fila[\"n\"], fila[\"R\"], \"DP\", fila[\"archivo\"]]);\n",
    "    \n",
    "for i in range(0, C_test):\n",
    "    fila = df_FB_res_peso_desc.iloc[i];\n",
    "    FB.append([fila[\"dataset\"], fila[\"n\"], fila[\"R\"], \"FB\", fila[\"archivo\"]]);\n",
    "    BT.append([fila[\"dataset\"], fila[\"n\"], fila[\"R\"], \"BT\", fila[\"archivo\"]]);\n",
    "    BT_O.append([fila[\"dataset\"], fila[\"n\"], fila[\"R\"], \"BT-O\", fila[\"archivo\"]]);\n",
    "    BT_F.append([fila[\"dataset\"], fila[\"n\"], fila[\"R\"], \"BT-F\", fila[\"archivo\"]]);\n",
    "    DP.append([fila[\"dataset\"], fila[\"n\"], fila[\"R\"], \"DP\", fila[\"archivo\"]]);    \n",
    "    \n",
    "    \n",
    "    \n",
    "test = [FB, BT, BT_O, BT_F, DP];"
   ]
  },
  {
   "cell_type": "markdown",
   "metadata": {},
   "source": [
    "## Correr tests entre algoritmos\n",
    "Todos los resultados tienen que dar igual sin importar la tecnica algoritmica\n"
   ]
  },
  {
   "cell_type": "code",
   "execution_count": 26,
   "metadata": {},
   "outputs": [
    {
     "name": "stdout",
     "output_type": "stream",
     "text": [
      "en proceso...\n",
      "Listo\n",
      "No se encuentra ninguna diferencia, pueden dormir tranquilos 🚀 \n"
     ]
    }
   ],
   "source": [
    "columnas = [\"dataset\", \"n\", \"R\", \"FB\", \"BT\", \"BT-O\", \"BT-F\", \"DP\", \"difiere\"];\n",
    "filas = [];\n",
    "print ('en proceso...')\n",
    "\n",
    "difiere_alguno = False\n",
    "difieren = 0\n",
    "\n",
    "for i in range(0,C_test * C_datasets_tests ):\n",
    "    res_fb = (correr_experimento_tester(test[0][i][3], test[0][i][4]));\n",
    "    res_bt = (correr_experimento_tester(test[1][i][3], test[1][i][4]));\n",
    "    res_bt_o = (correr_experimento_tester(test[2][i][3], test[2][i][4]));\n",
    "    res_bt_f = (correr_experimento_tester(test[3][i][3], test[3][i][4]));\n",
    "    res_dp = (correr_experimento_tester(test[4][i][3], test[4][i][4]));\n",
    "    \n",
    "    if (res_fb == res_bt and res_fb == res_bt_o and res_fb == res_bt_f and res_fb == res_dp):\n",
    "        difiere = ''\n",
    "    else:\n",
    "        difiere = 'x'\n",
    "        difiere_alguno = True\n",
    "        difieren = difieren + 1\n",
    "    \n",
    "    filas.append([test[0][i][0], test[0][i][1], test[0][i][2], res_fb, res_bt, res_bt_o, res_bt_f, res_dp, difiere]);\n",
    "df_resultado = pd.DataFrame(filas, columns=columnas);\n",
    "df_resultado.to_csv(\"resultados/TESTS_RESULTADOS.csv\", index=False, header=True);\n",
    "print (\"Listo\")\n",
    "if (difiere_alguno):\n",
    "    print ('difieren ' + str(difieren) + ' casos')\n",
    "    print ('revisar TEST_RESULTADOS.csv para mas detalle \\U0001F600')\n",
    "else: \n",
    "    print ('No se encuentra ninguna diferencia, pueden dormir tranquilos \\U0001F680 ')\n",
    "    "
   ]
  },
  {
   "cell_type": "code",
   "execution_count": null,
   "metadata": {},
   "outputs": [],
   "source": []
  },
  {
   "cell_type": "code",
   "execution_count": null,
   "metadata": {},
   "outputs": [],
   "source": []
  }
 ],
 "metadata": {
  "kernelspec": {
   "display_name": "Python 3",
   "language": "python",
   "name": "python3"
  },
  "language_info": {
   "codemirror_mode": {
    "name": "ipython",
    "version": 3
   },
   "file_extension": ".py",
   "mimetype": "text/x-python",
   "name": "python",
   "nbconvert_exporter": "python",
   "pygments_lexer": "ipython3",
   "version": "3.8.6"
  }
 },
 "nbformat": 4,
 "nbformat_minor": 4
}
